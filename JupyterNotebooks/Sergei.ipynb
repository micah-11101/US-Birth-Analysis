{
 "cells": [
  {
   "cell_type": "code",
   "execution_count": 1,
   "metadata": {},
   "outputs": [],
   "source": [
    "# Import necessary libraries\n",
    "import pandas as pd\n",
    "import numpy as np\n",
    "import matplotlib.pyplot as plt\n",
    "import seaborn as sns\n",
    "from scipy import stats\n",
    "import geopandas as gpd\n",
    "import plotly.graph_objects as go\n",
    "from plotly.subplots import make_subplots"
   ]
  },
  {
   "cell_type": "code",
   "execution_count": 3,
   "metadata": {},
   "outputs": [],
   "source": [
    "# Load the datasets\n",
    "# The births dataset contains information on births in the US from 2016 to 2021\n",
    "births_df = pd.read_csv('../Data/us_births_2016_2021.csv')\n",
    "# The regions dataset contains information on US state divisions and regions\n",
    "regions_df = pd.read_csv('../Data/US State Divison Regions.csv')"
   ]
  },
  {
   "cell_type": "code",
   "execution_count": 4,
   "metadata": {},
   "outputs": [],
   "source": [
    "# Merge datasets\n",
    "# This step combines the birth data with regional information based on state abbreviations\n",
    "merged_df = pd.merge(births_df, regions_df, left_on='State Abbreviation', right_on='State Code')"
   ]
  },
  {
   "cell_type": "code",
   "execution_count": 6,
   "metadata": {},
   "outputs": [
    {
     "data": {
      "text/html": [
       "<div>\n",
       "<style scoped>\n",
       "    .dataframe tbody tr th:only-of-type {\n",
       "        vertical-align: middle;\n",
       "    }\n",
       "\n",
       "    .dataframe tbody tr th {\n",
       "        vertical-align: top;\n",
       "    }\n",
       "\n",
       "    .dataframe thead th {\n",
       "        text-align: right;\n",
       "    }\n",
       "</style>\n",
       "<table border=\"1\" class=\"dataframe\">\n",
       "  <thead>\n",
       "    <tr style=\"text-align: right;\">\n",
       "      <th></th>\n",
       "      <th>State_x</th>\n",
       "      <th>State Abbreviation</th>\n",
       "      <th>Year</th>\n",
       "      <th>Gender</th>\n",
       "      <th>Education Level of Mother</th>\n",
       "      <th>Education Level Code</th>\n",
       "      <th>Number of Births</th>\n",
       "      <th>Average Age of Mother (years)</th>\n",
       "      <th>Average Birth Weight (g)</th>\n",
       "      <th>Index</th>\n",
       "      <th>State_y</th>\n",
       "      <th>State Code</th>\n",
       "      <th>Division</th>\n",
       "      <th>Region</th>\n",
       "    </tr>\n",
       "  </thead>\n",
       "  <tbody>\n",
       "    <tr>\n",
       "      <th>0</th>\n",
       "      <td>Alabama</td>\n",
       "      <td>AL</td>\n",
       "      <td>2016</td>\n",
       "      <td>F</td>\n",
       "      <td>8th grade or less</td>\n",
       "      <td>1</td>\n",
       "      <td>1052</td>\n",
       "      <td>27.8</td>\n",
       "      <td>3116.9</td>\n",
       "      <td>2</td>\n",
       "      <td>Alabama</td>\n",
       "      <td>AL</td>\n",
       "      <td>South</td>\n",
       "      <td>East South Central</td>\n",
       "    </tr>\n",
       "    <tr>\n",
       "      <th>1</th>\n",
       "      <td>Alabama</td>\n",
       "      <td>AL</td>\n",
       "      <td>2016</td>\n",
       "      <td>F</td>\n",
       "      <td>9th through 12th grade with no diploma</td>\n",
       "      <td>2</td>\n",
       "      <td>3436</td>\n",
       "      <td>24.1</td>\n",
       "      <td>3040.0</td>\n",
       "      <td>2</td>\n",
       "      <td>Alabama</td>\n",
       "      <td>AL</td>\n",
       "      <td>South</td>\n",
       "      <td>East South Central</td>\n",
       "    </tr>\n",
       "    <tr>\n",
       "      <th>2</th>\n",
       "      <td>Alabama</td>\n",
       "      <td>AL</td>\n",
       "      <td>2016</td>\n",
       "      <td>F</td>\n",
       "      <td>High school graduate or GED completed</td>\n",
       "      <td>3</td>\n",
       "      <td>8777</td>\n",
       "      <td>25.4</td>\n",
       "      <td>3080.0</td>\n",
       "      <td>2</td>\n",
       "      <td>Alabama</td>\n",
       "      <td>AL</td>\n",
       "      <td>South</td>\n",
       "      <td>East South Central</td>\n",
       "    </tr>\n",
       "    <tr>\n",
       "      <th>3</th>\n",
       "      <td>Alabama</td>\n",
       "      <td>AL</td>\n",
       "      <td>2016</td>\n",
       "      <td>F</td>\n",
       "      <td>Some college credit, but not a degree</td>\n",
       "      <td>4</td>\n",
       "      <td>6453</td>\n",
       "      <td>26.7</td>\n",
       "      <td>3121.9</td>\n",
       "      <td>2</td>\n",
       "      <td>Alabama</td>\n",
       "      <td>AL</td>\n",
       "      <td>South</td>\n",
       "      <td>East South Central</td>\n",
       "    </tr>\n",
       "    <tr>\n",
       "      <th>4</th>\n",
       "      <td>Alabama</td>\n",
       "      <td>AL</td>\n",
       "      <td>2016</td>\n",
       "      <td>F</td>\n",
       "      <td>Associate degree (AA, AS)</td>\n",
       "      <td>5</td>\n",
       "      <td>2227</td>\n",
       "      <td>28.9</td>\n",
       "      <td>3174.3</td>\n",
       "      <td>2</td>\n",
       "      <td>Alabama</td>\n",
       "      <td>AL</td>\n",
       "      <td>South</td>\n",
       "      <td>East South Central</td>\n",
       "    </tr>\n",
       "  </tbody>\n",
       "</table>\n",
       "</div>"
      ],
      "text/plain": [
       "   State_x State Abbreviation  Year Gender  \\\n",
       "0  Alabama                 AL  2016      F   \n",
       "1  Alabama                 AL  2016      F   \n",
       "2  Alabama                 AL  2016      F   \n",
       "3  Alabama                 AL  2016      F   \n",
       "4  Alabama                 AL  2016      F   \n",
       "\n",
       "                Education Level of Mother  Education Level Code  \\\n",
       "0                       8th grade or less                     1   \n",
       "1  9th through 12th grade with no diploma                     2   \n",
       "2   High school graduate or GED completed                     3   \n",
       "3   Some college credit, but not a degree                     4   \n",
       "4               Associate degree (AA, AS)                     5   \n",
       "\n",
       "   Number of Births  Average Age of Mother (years)  Average Birth Weight (g)  \\\n",
       "0              1052                           27.8                    3116.9   \n",
       "1              3436                           24.1                    3040.0   \n",
       "2              8777                           25.4                    3080.0   \n",
       "3              6453                           26.7                    3121.9   \n",
       "4              2227                           28.9                    3174.3   \n",
       "\n",
       "   Index  State_y State Code Division              Region  \n",
       "0      2  Alabama         AL    South  East South Central  \n",
       "1      2  Alabama         AL    South  East South Central  \n",
       "2      2  Alabama         AL    South  East South Central  \n",
       "3      2  Alabama         AL    South  East South Central  \n",
       "4      2  Alabama         AL    South  East South Central  "
      ]
     },
     "execution_count": 6,
     "metadata": {},
     "output_type": "execute_result"
    }
   ],
   "source": [
    "# Show the merged dataframe\n",
    "merged_df.head()"
   ]
  },
  {
   "cell_type": "code",
   "execution_count": 7,
   "metadata": {},
   "outputs": [
    {
     "data": {
      "text/html": [
       "<div>\n",
       "<style scoped>\n",
       "    .dataframe tbody tr th:only-of-type {\n",
       "        vertical-align: middle;\n",
       "    }\n",
       "\n",
       "    .dataframe tbody tr th {\n",
       "        vertical-align: top;\n",
       "    }\n",
       "\n",
       "    .dataframe thead th {\n",
       "        text-align: right;\n",
       "    }\n",
       "</style>\n",
       "<table border=\"1\" class=\"dataframe\">\n",
       "  <thead>\n",
       "    <tr style=\"text-align: right;\">\n",
       "      <th></th>\n",
       "      <th>State</th>\n",
       "      <th>State Abbreviation</th>\n",
       "      <th>Year</th>\n",
       "      <th>Gender</th>\n",
       "      <th>Education Level of Mother</th>\n",
       "      <th>Education Level Code</th>\n",
       "      <th>Number of Births</th>\n",
       "      <th>Average Age of Mother (years)</th>\n",
       "      <th>Average Birth Weight (g)</th>\n",
       "      <th>Index</th>\n",
       "      <th>State_y</th>\n",
       "      <th>State Code</th>\n",
       "      <th>Division</th>\n",
       "      <th>Region</th>\n",
       "    </tr>\n",
       "  </thead>\n",
       "  <tbody>\n",
       "    <tr>\n",
       "      <th>0</th>\n",
       "      <td>Alabama</td>\n",
       "      <td>AL</td>\n",
       "      <td>2016</td>\n",
       "      <td>F</td>\n",
       "      <td>8th grade or less</td>\n",
       "      <td>1</td>\n",
       "      <td>1052</td>\n",
       "      <td>27.8</td>\n",
       "      <td>3116.9</td>\n",
       "      <td>2</td>\n",
       "      <td>Alabama</td>\n",
       "      <td>AL</td>\n",
       "      <td>South</td>\n",
       "      <td>East South Central</td>\n",
       "    </tr>\n",
       "    <tr>\n",
       "      <th>1</th>\n",
       "      <td>Alabama</td>\n",
       "      <td>AL</td>\n",
       "      <td>2016</td>\n",
       "      <td>F</td>\n",
       "      <td>9th through 12th grade with no diploma</td>\n",
       "      <td>2</td>\n",
       "      <td>3436</td>\n",
       "      <td>24.1</td>\n",
       "      <td>3040.0</td>\n",
       "      <td>2</td>\n",
       "      <td>Alabama</td>\n",
       "      <td>AL</td>\n",
       "      <td>South</td>\n",
       "      <td>East South Central</td>\n",
       "    </tr>\n",
       "    <tr>\n",
       "      <th>2</th>\n",
       "      <td>Alabama</td>\n",
       "      <td>AL</td>\n",
       "      <td>2016</td>\n",
       "      <td>F</td>\n",
       "      <td>High school graduate or GED completed</td>\n",
       "      <td>3</td>\n",
       "      <td>8777</td>\n",
       "      <td>25.4</td>\n",
       "      <td>3080.0</td>\n",
       "      <td>2</td>\n",
       "      <td>Alabama</td>\n",
       "      <td>AL</td>\n",
       "      <td>South</td>\n",
       "      <td>East South Central</td>\n",
       "    </tr>\n",
       "    <tr>\n",
       "      <th>3</th>\n",
       "      <td>Alabama</td>\n",
       "      <td>AL</td>\n",
       "      <td>2016</td>\n",
       "      <td>F</td>\n",
       "      <td>Some college credit, but not a degree</td>\n",
       "      <td>4</td>\n",
       "      <td>6453</td>\n",
       "      <td>26.7</td>\n",
       "      <td>3121.9</td>\n",
       "      <td>2</td>\n",
       "      <td>Alabama</td>\n",
       "      <td>AL</td>\n",
       "      <td>South</td>\n",
       "      <td>East South Central</td>\n",
       "    </tr>\n",
       "    <tr>\n",
       "      <th>4</th>\n",
       "      <td>Alabama</td>\n",
       "      <td>AL</td>\n",
       "      <td>2016</td>\n",
       "      <td>F</td>\n",
       "      <td>Associate degree (AA, AS)</td>\n",
       "      <td>5</td>\n",
       "      <td>2227</td>\n",
       "      <td>28.9</td>\n",
       "      <td>3174.3</td>\n",
       "      <td>2</td>\n",
       "      <td>Alabama</td>\n",
       "      <td>AL</td>\n",
       "      <td>South</td>\n",
       "      <td>East South Central</td>\n",
       "    </tr>\n",
       "  </tbody>\n",
       "</table>\n",
       "</div>"
      ],
      "text/plain": [
       "     State State Abbreviation  Year Gender  \\\n",
       "0  Alabama                 AL  2016      F   \n",
       "1  Alabama                 AL  2016      F   \n",
       "2  Alabama                 AL  2016      F   \n",
       "3  Alabama                 AL  2016      F   \n",
       "4  Alabama                 AL  2016      F   \n",
       "\n",
       "                Education Level of Mother  Education Level Code  \\\n",
       "0                       8th grade or less                     1   \n",
       "1  9th through 12th grade with no diploma                     2   \n",
       "2   High school graduate or GED completed                     3   \n",
       "3   Some college credit, but not a degree                     4   \n",
       "4               Associate degree (AA, AS)                     5   \n",
       "\n",
       "   Number of Births  Average Age of Mother (years)  Average Birth Weight (g)  \\\n",
       "0              1052                           27.8                    3116.9   \n",
       "1              3436                           24.1                    3040.0   \n",
       "2              8777                           25.4                    3080.0   \n",
       "3              6453                           26.7                    3121.9   \n",
       "4              2227                           28.9                    3174.3   \n",
       "\n",
       "   Index  State_y State Code Division              Region  \n",
       "0      2  Alabama         AL    South  East South Central  \n",
       "1      2  Alabama         AL    South  East South Central  \n",
       "2      2  Alabama         AL    South  East South Central  \n",
       "3      2  Alabama         AL    South  East South Central  \n",
       "4      2  Alabama         AL    South  East South Central  "
      ]
     },
     "execution_count": 7,
     "metadata": {},
     "output_type": "execute_result"
    }
   ],
   "source": [
    "# Rename the 'State_x' column to 'State Name'\n",
    "merged_df.rename(columns={'State_x': 'State'}, inplace=True)\n",
    "\n",
    "# Show the merged dataframe\n",
    "merged_df.head()\n"
   ]
  },
  {
   "cell_type": "code",
   "execution_count": 8,
   "metadata": {},
   "outputs": [],
   "source": [
    "# Aggregate births by state, year, and region\n",
    "# This step sums up the number of births for each state, year, and region combination\n",
    "agg_df = merged_df.groupby(['State', 'Year', 'Region'])['Number of Births'].sum().reset_index()"
   ]
  },
  {
   "cell_type": "code",
   "execution_count": 9,
   "metadata": {},
   "outputs": [
    {
     "data": {
      "text/html": [
       "<div>\n",
       "<style scoped>\n",
       "    .dataframe tbody tr th:only-of-type {\n",
       "        vertical-align: middle;\n",
       "    }\n",
       "\n",
       "    .dataframe tbody tr th {\n",
       "        vertical-align: top;\n",
       "    }\n",
       "\n",
       "    .dataframe thead th {\n",
       "        text-align: right;\n",
       "    }\n",
       "</style>\n",
       "<table border=\"1\" class=\"dataframe\">\n",
       "  <thead>\n",
       "    <tr style=\"text-align: right;\">\n",
       "      <th></th>\n",
       "      <th>State</th>\n",
       "      <th>Year</th>\n",
       "      <th>Region</th>\n",
       "      <th>Number of Births</th>\n",
       "    </tr>\n",
       "  </thead>\n",
       "  <tbody>\n",
       "    <tr>\n",
       "      <th>0</th>\n",
       "      <td>Alabama</td>\n",
       "      <td>2016</td>\n",
       "      <td>East South Central</td>\n",
       "      <td>59151</td>\n",
       "    </tr>\n",
       "    <tr>\n",
       "      <th>1</th>\n",
       "      <td>Alabama</td>\n",
       "      <td>2017</td>\n",
       "      <td>East South Central</td>\n",
       "      <td>58941</td>\n",
       "    </tr>\n",
       "    <tr>\n",
       "      <th>2</th>\n",
       "      <td>Alabama</td>\n",
       "      <td>2018</td>\n",
       "      <td>East South Central</td>\n",
       "      <td>57761</td>\n",
       "    </tr>\n",
       "    <tr>\n",
       "      <th>3</th>\n",
       "      <td>Alabama</td>\n",
       "      <td>2019</td>\n",
       "      <td>East South Central</td>\n",
       "      <td>58615</td>\n",
       "    </tr>\n",
       "    <tr>\n",
       "      <th>4</th>\n",
       "      <td>Alabama</td>\n",
       "      <td>2020</td>\n",
       "      <td>East South Central</td>\n",
       "      <td>57647</td>\n",
       "    </tr>\n",
       "  </tbody>\n",
       "</table>\n",
       "</div>"
      ],
      "text/plain": [
       "     State  Year              Region  Number of Births\n",
       "0  Alabama  2016  East South Central             59151\n",
       "1  Alabama  2017  East South Central             58941\n",
       "2  Alabama  2018  East South Central             57761\n",
       "3  Alabama  2019  East South Central             58615\n",
       "4  Alabama  2020  East South Central             57647"
      ]
     },
     "execution_count": 9,
     "metadata": {},
     "output_type": "execute_result"
    }
   ],
   "source": [
    "# Show the aggregated dataframe\n",
    "agg_df.head()"
   ]
  },
  {
   "cell_type": "code",
   "execution_count": 10,
   "metadata": {},
   "outputs": [
    {
     "data": {
      "text/html": [
       "<div>\n",
       "<style scoped>\n",
       "    .dataframe tbody tr th:only-of-type {\n",
       "        vertical-align: middle;\n",
       "    }\n",
       "\n",
       "    .dataframe tbody tr th {\n",
       "        vertical-align: top;\n",
       "    }\n",
       "\n",
       "    .dataframe thead th {\n",
       "        text-align: right;\n",
       "    }\n",
       "</style>\n",
       "<table border=\"1\" class=\"dataframe\">\n",
       "  <thead>\n",
       "    <tr style=\"text-align: right;\">\n",
       "      <th></th>\n",
       "      <th>Region</th>\n",
       "      <th>Year</th>\n",
       "      <th>Number of Births</th>\n",
       "    </tr>\n",
       "  </thead>\n",
       "  <tbody>\n",
       "    <tr>\n",
       "      <th>0</th>\n",
       "      <td>East North Central</td>\n",
       "      <td>2016</td>\n",
       "      <td>555551</td>\n",
       "    </tr>\n",
       "    <tr>\n",
       "      <th>1</th>\n",
       "      <td>East North Central</td>\n",
       "      <td>2017</td>\n",
       "      <td>544793</td>\n",
       "    </tr>\n",
       "    <tr>\n",
       "      <th>2</th>\n",
       "      <td>East North Central</td>\n",
       "      <td>2018</td>\n",
       "      <td>535725</td>\n",
       "    </tr>\n",
       "    <tr>\n",
       "      <th>3</th>\n",
       "      <td>East North Central</td>\n",
       "      <td>2019</td>\n",
       "      <td>526604</td>\n",
       "    </tr>\n",
       "    <tr>\n",
       "      <th>4</th>\n",
       "      <td>East North Central</td>\n",
       "      <td>2020</td>\n",
       "      <td>505773</td>\n",
       "    </tr>\n",
       "  </tbody>\n",
       "</table>\n",
       "</div>"
      ],
      "text/plain": [
       "               Region  Year  Number of Births\n",
       "0  East North Central  2016            555551\n",
       "1  East North Central  2017            544793\n",
       "2  East North Central  2018            535725\n",
       "3  East North Central  2019            526604\n",
       "4  East North Central  2020            505773"
      ]
     },
     "execution_count": 10,
     "metadata": {},
     "output_type": "execute_result"
    }
   ],
   "source": [
    "# Calculate total births by region and year\n",
    "# This provides an overview of birth trends for each region over time\n",
    "region_year_births = agg_df.groupby(['Region', 'Year'])['Number of Births'].sum().reset_index()\n",
    "\n",
    "# Show the region-year-births dataframe\n",
    "region_year_births.head()"
   ]
  },
  {
   "cell_type": "code",
   "execution_count": 11,
   "metadata": {},
   "outputs": [
    {
     "data": {
      "text/html": [
       "<div>\n",
       "<style scoped>\n",
       "    .dataframe tbody tr th:only-of-type {\n",
       "        vertical-align: middle;\n",
       "    }\n",
       "\n",
       "    .dataframe tbody tr th {\n",
       "        vertical-align: top;\n",
       "    }\n",
       "\n",
       "    .dataframe thead th {\n",
       "        text-align: right;\n",
       "    }\n",
       "</style>\n",
       "<table border=\"1\" class=\"dataframe\">\n",
       "  <thead>\n",
       "    <tr style=\"text-align: right;\">\n",
       "      <th>Region</th>\n",
       "      <th>East North Central</th>\n",
       "      <th>East South Central</th>\n",
       "      <th>Middle Atlantic</th>\n",
       "      <th>Mountain</th>\n",
       "      <th>New England</th>\n",
       "      <th>Pacific</th>\n",
       "      <th>South Atlantic</th>\n",
       "      <th>West North Central</th>\n",
       "      <th>West South Central</th>\n",
       "    </tr>\n",
       "    <tr>\n",
       "      <th>Year</th>\n",
       "      <th></th>\n",
       "      <th></th>\n",
       "      <th></th>\n",
       "      <th></th>\n",
       "      <th></th>\n",
       "      <th></th>\n",
       "      <th></th>\n",
       "      <th></th>\n",
       "      <th></th>\n",
       "    </tr>\n",
       "  </thead>\n",
       "  <tbody>\n",
       "    <tr>\n",
       "      <th>2016</th>\n",
       "      <td>555551</td>\n",
       "      <td>233335</td>\n",
       "      <td>476339</td>\n",
       "      <td>304699</td>\n",
       "      <td>148851</td>\n",
       "      <td>654135</td>\n",
       "      <td>748710</td>\n",
       "      <td>272142</td>\n",
       "      <td>552091</td>\n",
       "    </tr>\n",
       "    <tr>\n",
       "      <th>2017</th>\n",
       "      <td>544793</td>\n",
       "      <td>232066</td>\n",
       "      <td>468732</td>\n",
       "      <td>295245</td>\n",
       "      <td>146621</td>\n",
       "      <td>630813</td>\n",
       "      <td>741149</td>\n",
       "      <td>265258</td>\n",
       "      <td>530802</td>\n",
       "    </tr>\n",
       "    <tr>\n",
       "      <th>2018</th>\n",
       "      <td>535725</td>\n",
       "      <td>229434</td>\n",
       "      <td>463134</td>\n",
       "      <td>289016</td>\n",
       "      <td>144073</td>\n",
       "      <td>610251</td>\n",
       "      <td>732341</td>\n",
       "      <td>262676</td>\n",
       "      <td>525057</td>\n",
       "    </tr>\n",
       "    <tr>\n",
       "      <th>2019</th>\n",
       "      <td>526604</td>\n",
       "      <td>228770</td>\n",
       "      <td>455354</td>\n",
       "      <td>286800</td>\n",
       "      <td>142529</td>\n",
       "      <td>599851</td>\n",
       "      <td>727520</td>\n",
       "      <td>257856</td>\n",
       "      <td>522247</td>\n",
       "    </tr>\n",
       "    <tr>\n",
       "      <th>2020</th>\n",
       "      <td>505773</td>\n",
       "      <td>223477</td>\n",
       "      <td>437985</td>\n",
       "      <td>278137</td>\n",
       "      <td>138452</td>\n",
       "      <td>568419</td>\n",
       "      <td>704470</td>\n",
       "      <td>248528</td>\n",
       "      <td>508392</td>\n",
       "    </tr>\n",
       "  </tbody>\n",
       "</table>\n",
       "</div>"
      ],
      "text/plain": [
       "Region  East North Central  East South Central  Middle Atlantic  Mountain  \\\n",
       "Year                                                                        \n",
       "2016                555551              233335           476339    304699   \n",
       "2017                544793              232066           468732    295245   \n",
       "2018                535725              229434           463134    289016   \n",
       "2019                526604              228770           455354    286800   \n",
       "2020                505773              223477           437985    278137   \n",
       "\n",
       "Region  New England  Pacific  South Atlantic  West North Central  \\\n",
       "Year                                                               \n",
       "2016         148851   654135          748710              272142   \n",
       "2017         146621   630813          741149              265258   \n",
       "2018         144073   610251          732341              262676   \n",
       "2019         142529   599851          727520              257856   \n",
       "2020         138452   568419          704470              248528   \n",
       "\n",
       "Region  West South Central  \n",
       "Year                        \n",
       "2016                552091  \n",
       "2017                530802  \n",
       "2018                525057  \n",
       "2019                522247  \n",
       "2020                508392  "
      ]
     },
     "execution_count": 11,
     "metadata": {},
     "output_type": "execute_result"
    }
   ],
   "source": [
    "# Pivot the data for easier plotting\n",
    "# This reshapes the data so that each region becomes a column, making it easier to create charts\n",
    "pivot_df = region_year_births.pivot(index='Year', columns='Region', values='Number of Births')\n",
    "\n",
    "# Show the pivoted dataframe\n",
    "pivot_df.head()"
   ]
  },
  {
   "cell_type": "code",
   "execution_count": 23,
   "metadata": {},
   "outputs": [
    {
     "data": {
      "text/plain": [
       "<Figure size 1800x800 with 0 Axes>"
      ]
     },
     "metadata": {},
     "output_type": "display_data"
    },
    {
     "data": {
      "image/png": "[encoded data removed]",
      "text/plain": [
       "<Figure size 2000x800 with 2 Axes>"
      ]
     },
     "metadata": {},
     "output_type": "display_data"
    }
   ],
   "source": [
    "# Sort regions from highest births to lowest\n",
    "sorted_regions = pivot_df.sum().sort_values(ascending=False).index\n",
    "\n",
    "# Create a stacked area chart\n",
    "plt.figure(figsize=(18, 8))  # Control the width to 18 for a wider x-axis\n",
    "fig, ax1 = plt.subplots(figsize=(20, 8))\n",
    "pivot_df[sorted_regions].plot(kind='area', stacked=True, ax=ax1)\n",
    "ax1.set_title('Number of Births by Region Over Time', fontweight='bold', fontsize=16)\n",
    "ax1.set_xlabel('Year')\n",
    "ax1.set_ylabel('Number of Births')\n",
    "\n",
    "# Create legend with sorted regions\n",
    "handles, labels = ax1.get_legend_handles_labels()\n",
    "ax1.legend(handles[::-1], labels[::-1], title='Region', bbox_to_anchor=(1.05, 1), loc='upper left')\n",
    "\n",
    "# Create a twin Axes sharing the x-axis\n",
    "ax2 = ax1.twinx()\n",
    "ax2.set_ylabel('Number of Births')\n",
    "ax2.set_ylim(ax1.get_ylim())  # Set the same y-axis limits as the left axis\n",
    "\n",
    "# Add y-axis labels\n",
    "ax1.yaxis.set_major_formatter(plt.FuncFormatter(lambda x, p: format(int(x), ',')))\n",
    "\n",
    "# Adjust layout to prevent cutting off y-axis labels\n",
    "plt.tight_layout(rect=[0.05, 0.05, 0.95, 0.95])\n",
    "\n",
    "# plt.savefig('stacked_area_chart.png')  # Commented out the option to save the figure\n",
    "plt.show()  # Display the plot\n",
    "plt.close()"
   ]
  },
  {
   "cell_type": "code",
   "execution_count": 40,
   "metadata": {},
   "outputs": [
    {
     "name": "stdout",
     "output_type": "stream",
     "text": [
      "        State\n",
      "0     Alabama\n",
      "1      Alaska\n",
      "2     Arizona\n",
      "3    Arkansas\n",
      "4  California\n"
     ]
    }
   ],
   "source": [
    "# Create a choropleth map\n",
    "# Create a dataframe of unique states from the 'State' column in the aggregated dataframe and keep the column name 'State'\n",
    "unique_states = agg_df['State'].unique()\n",
    "\n",
    "# Give the dataframe a name 'State'\n",
    "unique_states = pd.DataFrame(unique_states, columns=['State'])\n",
    "\n",
    "# Show unique_states dataframe\n",
    "print(unique_states.head())\n"
   ]
  },
  {
   "cell_type": "code",
   "execution_count": 44,
   "metadata": {},
   "outputs": [
    {
     "name": "stdout",
     "output_type": "stream",
     "text": [
      "     State  Year              Region  Number of Births\n",
      "0  Alabama  2016  East South Central             59151\n",
      "1  Alabama  2017  East South Central             58941\n",
      "2  Alabama  2018  East South Central             57761\n",
      "3  Alabama  2019  East South Central             58615\n",
      "4  Alabama  2020  East South Central             57647\n"
     ]
    }
   ],
   "source": [
    "# Show agg_df dataframe\n",
    "print(agg_df.head())"
   ]
  },
  {
   "cell_type": "code",
   "execution_count": 45,
   "metadata": {},
   "outputs": [
    {
     "name": "stdout",
     "output_type": "stream",
     "text": [
      "   Index       State State Code Division              Region\n",
      "0      1      Alaska         AK     West             Pacific\n",
      "1      2     Alabama         AL    South  East South Central\n",
      "2      3    Arkansas         AR    South  West South Central\n",
      "3      4     Arizona         AZ     West            Mountain\n",
      "4      5  California         CA     West             Pacific\n"
     ]
    }
   ],
   "source": [
    "# Show regions_df dataframe\n",
    "print(regions_df.head())\n"
   ]
  },
  {
   "cell_type": "code",
   "execution_count": 46,
   "metadata": {},
   "outputs": [
    {
     "name": "stdout",
     "output_type": "stream",
     "text": [
      "        State  Number of Births State Code\n",
      "0     Alabama      58361.500000         AL\n",
      "1      Alaska      10066.333333         AK\n",
      "2     Arizona      80225.500000         AZ\n",
      "3    Arkansas      36765.333333         AR\n",
      "4  California     450458.500000         CA\n"
     ]
    }
   ],
   "source": [
    "# Calculate average births per year for each state\n",
    "state_births = agg_df.groupby('State')['Number of Births'].mean().reset_index()\n",
    "state_births = pd.merge(state_births, regions_df[['State', 'State Code']], on='State')\n",
    "\n",
    "# Show state_births dataframe\n",
    "print(state_births.head())\n"
   ]
  },
  {
   "cell_type": "code",
   "execution_count": 53,
   "metadata": {},
   "outputs": [
    {
     "data": {
      "application/vnd.plotly.v1+json": {
       "config": {
        "plotlyServerURL": "https://plot.ly"
       },
       "data": [
        {
         "colorbar": {
          "title": {
           "text": "Average Annual Births"
          }
         },
         "colorscale": [
          [
           0,
           "rgb(255,255,204)"
          ],
          [
           0.125,
           "rgb(255,237,160)"
          ],
          [
           0.25,
           "rgb(254,217,118)"
          ],
          [
           0.375,
           "rgb(254,178,76)"
          ],
          [
           0.5,
           "rgb(253,141,60)"
          ],
          [
           0.625,
           "rgb(252,78,42)"
          ],
          [
           0.75,
           "rgb(227,26,28)"
          ],
          [
           0.875,
           "rgb(189,0,38)"
          ],
          [
           1,
           "rgb(128,0,38)"
          ]
         ],
         "locationmode": "USA-states",
         "locations": [
          "AL",
          "AK",
          "AZ",
          "AR",
          "CA",
          "CO",
          "CT",
          "DE",
          "DC",
          "FL",
          "GA",
          "HI",
          "ID",
          "IL",
          "IN",
          "IA",
          "KS",
          "KY",
          "LA",
          "ME",
          "MD",
          "MA",
          "MI",
          "MN",
          "MS",
          "MO",
          "MT",
          "NE",
          "NV",
          "NH",
          "NJ",
          "NM",
          "NY",
          "NC",
          "ND",
          "OH",
          "OK",
          "OR",
          "PA",
          "RI",
          "SC",
          "SD",
          "TN",
          "TX",
          "UT",
          "VT",
          "VA",
          "WA",
          "WV",
          "WI",
          "WY"
         ],
         "type": "choropleth",
         "z": [
          58361.5,
          10066.333333333334,
          80225.5,
          36765.333333333336,
          450458.5,
          63532,
          34891.5,
          10650.666666666666,
          9207.166666666666,
          219354.5,
          126395.66666666667,
          16791.666666666668,
          22014.833333333332,
          142377.5,
          81054.66666666667,
          37702.666666666664,
          35884.833333333336,
          53512.333333333336,
          59586.166666666664,
          12102.833333333334,
          70479,
          69301.66666666667,
          108618.83333333333,
          66597.16666666667,
          36591.666666666664,
          71978.83333333333,
          11442.833333333334,
          25254.333333333332,
          35018.166666666664,
          12105.5,
          100692.66666666667,
          22958.666666666668,
          221979.5,
          119296.5,
          10563.5,
          133915.66666666666,
          49630.333333333336,
          42324.333333333336,
          135062,
          10447,
          56827.833333333336,
          11680,
          80571.66666666667,
          379684,
          47583,
          5453.5,
          98449.5,
          86007.33333333333,
          18109.833333333332,
          63555.5,
          6630.166666666667
         ]
        }
       ],
       "layout": {
        "geo": {
         "lakecolor": "rgb(255, 255, 255)",
         "projection": {
          "scale": 1.1,
          "type": "albers usa"
         },
         "scope": "usa",
         "showlakes": true
        },
        "height": 800,
        "template": {
         "data": {
          "bar": [
           {
            "error_x": {
             "color": "#2a3f5f"
            },
            "error_y": {
             "color": "#2a3f5f"
            },
            "marker": {
             "line": {
              "color": "#E5ECF6",
              "width": 0.5
             },
             "pattern": {
              "fillmode": "overlay",
              "size": 10,
              "solidity": 0.2
             }
            },
            "type": "bar"
           }
          ],
          "barpolar": [
           {
            "marker": {
             "line": {
              "color": "#E5ECF6",
              "width": 0.5
             },
             "pattern": {
              "fillmode": "overlay",
              "size": 10,
              "solidity": 0.2
             }
            },
            "type": "barpolar"
           }
          ],
          "carpet": [
           {
            "aaxis": {
             "endlinecolor": "#2a3f5f",
             "gridcolor": "white",
             "linecolor": "white",
             "minorgridcolor": "white",
             "startlinecolor": "#2a3f5f"
            },
            "baxis": {
             "endlinecolor": "#2a3f5f",
             "gridcolor": "white",
             "linecolor": "white",
             "minorgridcolor": "white",
             "startlinecolor": "#2a3f5f"
            },
            "type": "carpet"
           }
          ],
          "choropleth": [
           {
            "colorbar": {
             "outlinewidth": 0,
             "ticks": ""
            },
            "type": "choropleth"
           }
          ],
          "contour": [
           {
            "colorbar": {
             "outlinewidth": 0,
             "ticks": ""
            },
            "colorscale": [
             [
              0,
              "#0d0887"
             ],
             [
              0.1111111111111111,
              "#46039f"
             ],
             [
              0.2222222222222222,
              "#7201a8"
             ],
             [
              0.3333333333333333,
              "#9c179e"
             ],
             [
              0.4444444444444444,
              "#bd3786"
             ],
             [
              0.5555555555555556,
              "#d8576b"
             ],
             [
              0.6666666666666666,
              "#ed7953"
             ],
             [
              0.7777777777777778,
              "#fb9f3a"
             ],
             [
              0.8888888888888888,
              "#fdca26"
             ],
             [
              1,
              "#f0f921"
             ]
            ],
            "type": "contour"
           }
          ],
          "contourcarpet": [
           {
            "colorbar": {
             "outlinewidth": 0,
             "ticks": ""
            },
            "type": "contourcarpet"
           }
          ],
          "heatmap": [
           {
            "colorbar": {
             "outlinewidth": 0,
             "ticks": ""
            },
            "colorscale": [
             [
              0,
              "#0d0887"
             ],
             [
              0.1111111111111111,
              "#46039f"
             ],
             [
              0.2222222222222222,
              "#7201a8"
             ],
             [
              0.3333333333333333,
              "#9c179e"
             ],
             [
              0.4444444444444444,
              "#bd3786"
             ],
             [
              0.5555555555555556,
              "#d8576b"
             ],
             [
              0.6666666666666666,
              "#ed7953"
             ],
             [
              0.7777777777777778,
              "#fb9f3a"
             ],
             [
              0.8888888888888888,
              "#fdca26"
             ],
             [
              1,
              "#f0f921"
             ]
            ],
            "type": "heatmap"
           }
          ],
          "heatmapgl": [
           {
            "colorbar": {
             "outlinewidth": 0,
             "ticks": ""
            },
            "colorscale": [
             [
              0,
              "#0d0887"
             ],
             [
              0.1111111111111111,
              "#46039f"
             ],
             [
              0.2222222222222222,
              "#7201a8"
             ],
             [
              0.3333333333333333,
              "#9c179e"
             ],
             [
              0.4444444444444444,
              "#bd3786"
             ],
             [
              0.5555555555555556,
              "#d8576b"
             ],
             [
              0.6666666666666666,
              "#ed7953"
             ],
             [
              0.7777777777777778,
              "#fb9f3a"
             ],
             [
              0.8888888888888888,
              "#fdca26"
             ],
             [
              1,
              "#f0f921"
             ]
            ],
            "type": "heatmapgl"
           }
          ],
          "histogram": [
           {
            "marker": {
             "pattern": {
              "fillmode": "overlay",
              "size": 10,
              "solidity": 0.2
             }
            },
            "type": "histogram"
           }
          ],
          "histogram2d": [
           {
            "colorbar": {
             "outlinewidth": 0,
             "ticks": ""
            },
            "colorscale": [
             [
              0,
              "#0d0887"
             ],
             [
              0.1111111111111111,
              "#46039f"
             ],
             [
              0.2222222222222222,
              "#7201a8"
             ],
             [
              0.3333333333333333,
              "#9c179e"
             ],
             [
              0.4444444444444444,
              "#bd3786"
             ],
             [
              0.5555555555555556,
              "#d8576b"
             ],
             [
              0.6666666666666666,
              "#ed7953"
             ],
             [
              0.7777777777777778,
              "#fb9f3a"
             ],
             [
              0.8888888888888888,
              "#fdca26"
             ],
             [
              1,
              "#f0f921"
             ]
            ],
            "type": "histogram2d"
           }
          ],
          "histogram2dcontour": [
           {
            "colorbar": {
             "outlinewidth": 0,
             "ticks": ""
            },
            "colorscale": [
             [
              0,
              "#0d0887"
             ],
             [
              0.1111111111111111,
              "#46039f"
             ],
             [
              0.2222222222222222,
              "#7201a8"
             ],
             [
              0.3333333333333333,
              "#9c179e"
             ],
             [
              0.4444444444444444,
              "#bd3786"
             ],
             [
              0.5555555555555556,
              "#d8576b"
             ],
             [
              0.6666666666666666,
              "#ed7953"
             ],
             [
              0.7777777777777778,
              "#fb9f3a"
             ],
             [
              0.8888888888888888,
              "#fdca26"
             ],
             [
              1,
              "#f0f921"
             ]
            ],
            "type": "histogram2dcontour"
           }
          ],
          "mesh3d": [
           {
            "colorbar": {
             "outlinewidth": 0,
             "ticks": ""
            },
            "type": "mesh3d"
           }
          ],
          "parcoords": [
           {
            "line": {
             "colorbar": {
              "outlinewidth": 0,
              "ticks": ""
             }
            },
            "type": "parcoords"
           }
          ],
          "pie": [
           {
            "automargin": true,
            "type": "pie"
           }
          ],
          "scatter": [
           {
            "fillpattern": {
             "fillmode": "overlay",
             "size": 10,
             "solidity": 0.2
            },
            "type": "scatter"
           }
          ],
          "scatter3d": [
           {
            "line": {
             "colorbar": {
              "outlinewidth": 0,
              "ticks": ""
             }
            },
            "marker": {
             "colorbar": {
              "outlinewidth": 0,
              "ticks": ""
             }
            },
            "type": "scatter3d"
           }
          ],
          "scattercarpet": [
           {
            "marker": {
             "colorbar": {
              "outlinewidth": 0,
              "ticks": ""
             }
            },
            "type": "scattercarpet"
           }
          ],
          "scattergeo": [
           {
            "marker": {
             "colorbar": {
              "outlinewidth": 0,
              "ticks": ""
             }
            },
            "type": "scattergeo"
           }
          ],
          "scattergl": [
           {
            "marker": {
             "colorbar": {
              "outlinewidth": 0,
              "ticks": ""
             }
            },
            "type": "scattergl"
           }
          ],
          "scattermapbox": [
           {
            "marker": {
             "colorbar": {
              "outlinewidth": 0,
              "ticks": ""
             }
            },
            "type": "scattermapbox"
           }
          ],
          "scatterpolar": [
           {
            "marker": {
             "colorbar": {
              "outlinewidth": 0,
              "ticks": ""
             }
            },
            "type": "scatterpolar"
           }
          ],
          "scatterpolargl": [
           {
            "marker": {
             "colorbar": {
              "outlinewidth": 0,
              "ticks": ""
             }
            },
            "type": "scatterpolargl"
           }
          ],
          "scatterternary": [
           {
            "marker": {
             "colorbar": {
              "outlinewidth": 0,
              "ticks": ""
             }
            },
            "type": "scatterternary"
           }
          ],
          "surface": [
           {
            "colorbar": {
             "outlinewidth": 0,
             "ticks": ""
            },
            "colorscale": [
             [
              0,
              "#0d0887"
             ],
             [
              0.1111111111111111,
              "#46039f"
             ],
             [
              0.2222222222222222,
              "#7201a8"
             ],
             [
              0.3333333333333333,
              "#9c179e"
             ],
             [
              0.4444444444444444,
              "#bd3786"
             ],
             [
              0.5555555555555556,
              "#d8576b"
             ],
             [
              0.6666666666666666,
              "#ed7953"
             ],
             [
              0.7777777777777778,
              "#fb9f3a"
             ],
             [
              0.8888888888888888,
              "#fdca26"
             ],
             [
              1,
              "#f0f921"
             ]
            ],
            "type": "surface"
           }
          ],
          "table": [
           {
            "cells": {
             "fill": {
              "color": "#EBF0F8"
             },
             "line": {
              "color": "white"
             }
            },
            "header": {
             "fill": {
              "color": "#C8D4E3"
             },
             "line": {
              "color": "white"
             }
            },
            "type": "table"
           }
          ]
         },
         "layout": {
          "annotationdefaults": {
           "arrowcolor": "#2a3f5f",
           "arrowhead": 0,
           "arrowwidth": 1
          },
          "autotypenumbers": "strict",
          "coloraxis": {
           "colorbar": {
            "outlinewidth": 0,
            "ticks": ""
           }
          },
          "colorscale": {
           "diverging": [
            [
             0,
             "#8e0152"
            ],
            [
             0.1,
             "#c51b7d"
            ],
            [
             0.2,
             "#de77ae"
            ],
            [
             0.3,
             "#f1b6da"
            ],
            [
             0.4,
             "#fde0ef"
            ],
            [
             0.5,
             "#f7f7f7"
            ],
            [
             0.6,
             "#e6f5d0"
            ],
            [
             0.7,
             "#b8e186"
            ],
            [
             0.8,
             "#7fbc41"
            ],
            [
             0.9,
             "#4d9221"
            ],
            [
             1,
             "#276419"
            ]
           ],
           "sequential": [
            [
             0,
             "#0d0887"
            ],
            [
             0.1111111111111111,
             "#46039f"
            ],
            [
             0.2222222222222222,
             "#7201a8"
            ],
            [
             0.3333333333333333,
             "#9c179e"
            ],
            [
             0.4444444444444444,
             "#bd3786"
            ],
            [
             0.5555555555555556,
             "#d8576b"
            ],
            [
             0.6666666666666666,
             "#ed7953"
            ],
            [
             0.7777777777777778,
             "#fb9f3a"
            ],
            [
             0.8888888888888888,
             "#fdca26"
            ],
            [
             1,
             "#f0f921"
            ]
           ],
           "sequentialminus": [
            [
             0,
             "#0d0887"
            ],
            [
             0.1111111111111111,
             "#46039f"
            ],
            [
             0.2222222222222222,
             "#7201a8"
            ],
            [
             0.3333333333333333,
             "#9c179e"
            ],
            [
             0.4444444444444444,
             "#bd3786"
            ],
            [
             0.5555555555555556,
             "#d8576b"
            ],
            [
             0.6666666666666666,
             "#ed7953"
            ],
            [
             0.7777777777777778,
             "#fb9f3a"
            ],
            [
             0.8888888888888888,
             "#fdca26"
            ],
            [
             1,
             "#f0f921"
            ]
           ]
          },
          "colorway": [
           "#636efa",
           "#EF553B",
           "#00cc96",
           "#ab63fa",
           "#FFA15A",
           "#19d3f3",
           "#FF6692",
           "#B6E880",
           "#FF97FF",
           "#FECB52"
          ],
          "font": {
           "color": "#2a3f5f"
          },
          "geo": {
           "bgcolor": "white",
           "lakecolor": "white",
           "landcolor": "#E5ECF6",
           "showlakes": true,
           "showland": true,
           "subunitcolor": "white"
          },
          "hoverlabel": {
           "align": "left"
          },
          "hovermode": "closest",
          "mapbox": {
           "style": "light"
          },
          "paper_bgcolor": "white",
          "plot_bgcolor": "#E5ECF6",
          "polar": {
           "angularaxis": {
            "gridcolor": "white",
            "linecolor": "white",
            "ticks": ""
           },
           "bgcolor": "#E5ECF6",
           "radialaxis": {
            "gridcolor": "white",
            "linecolor": "white",
            "ticks": ""
           }
          },
          "scene": {
           "xaxis": {
            "backgroundcolor": "#E5ECF6",
            "gridcolor": "white",
            "gridwidth": 2,
            "linecolor": "white",
            "showbackground": true,
            "ticks": "",
            "zerolinecolor": "white"
           },
           "yaxis": {
            "backgroundcolor": "#E5ECF6",
            "gridcolor": "white",
            "gridwidth": 2,
            "linecolor": "white",
            "showbackground": true,
            "ticks": "",
            "zerolinecolor": "white"
           },
           "zaxis": {
            "backgroundcolor": "#E5ECF6",
            "gridcolor": "white",
            "gridwidth": 2,
            "linecolor": "white",
            "showbackground": true,
            "ticks": "",
            "zerolinecolor": "white"
           }
          },
          "shapedefaults": {
           "line": {
            "color": "#2a3f5f"
           }
          },
          "ternary": {
           "aaxis": {
            "gridcolor": "white",
            "linecolor": "white",
            "ticks": ""
           },
           "baxis": {
            "gridcolor": "white",
            "linecolor": "white",
            "ticks": ""
           },
           "bgcolor": "#E5ECF6",
           "caxis": {
            "gridcolor": "white",
            "linecolor": "white",
            "ticks": ""
           }
          },
          "title": {
           "x": 0.05
          },
          "xaxis": {
           "automargin": true,
           "gridcolor": "white",
           "linecolor": "white",
           "ticks": "",
           "title": {
            "standoff": 15
           },
           "zerolinecolor": "white",
           "zerolinewidth": 2
          },
          "yaxis": {
           "automargin": true,
           "gridcolor": "white",
           "linecolor": "white",
           "ticks": "",
           "title": {
            "standoff": 15
           },
           "zerolinecolor": "white",
           "zerolinewidth": 2
          }
         }
        },
        "title": {
         "text": "Average Annual Births by State (2016-2021)"
        }
       }
      }
     },
     "metadata": {},
     "output_type": "display_data"
    }
   ],
   "source": [
    "# Create and show the choropleth map\n",
    "fig = go.Figure(data=go.Choropleth(\n",
    "    locations=state_births['State Code'],\n",
    "    z=state_births['Number of Births'].astype(float),\n",
    "    locationmode='USA-states',\n",
    "    colorscale='YlOrRd',\n",
    "    colorbar_title=\"Average Annual Births\"\n",
    "))\n",
    "\n",
    "# Update layout\n",
    "fig.update_layout(\n",
    "    title_text='Average Annual Births by State (2016-2021)',\n",
    "    geo_scope='usa',\n",
    "    geo=dict(\n",
    "        projection=dict(\n",
    "            type='albers usa',\n",
    "            scale=1.1  # Increase the scale to make states bigger\n",
    "        ),\n",
    "        showlakes=True,\n",
    "        lakecolor='rgb(255, 255, 255)'\n",
    "    ),\n",
    "    height=800  # Increase the height of the figure\n",
    ")\n",
    "\n",
    "# Show the map\n",
    "fig.show()\n"
   ]
  },
  {
   "cell_type": "code",
   "execution_count": 52,
   "metadata": {},
   "outputs": [
    {
     "name": "stdout",
     "output_type": "stream",
     "text": [
      "             State  Number of Births State Code\n",
      "4       California     450458.500000         CA\n",
      "43           Texas     379684.000000         TX\n",
      "32        New York     221979.500000         NY\n",
      "9          Florida     219354.500000         FL\n",
      "13        Illinois     142377.500000         IL\n",
      "38    Pennsylvania     135062.000000         PA\n",
      "35            Ohio     133915.666667         OH\n",
      "10         Georgia     126395.666667         GA\n",
      "33  North Carolina     119296.500000         NC\n",
      "22        Michigan     108618.833333         MI\n"
     ]
    },
    {
     "data": {
      "text/plain": [
       "Text(0, 0.5, 'Average Annual Births')"
      ]
     },
     "execution_count": 52,
     "metadata": {},
     "output_type": "execute_result"
    },
    {
     "data": {
      "image/png": "[encoded data removed]",
      "text/plain": [
       "<Figure size 1200x800 with 1 Axes>"
      ]
     },
     "metadata": {},
     "output_type": "display_data"
    }
   ],
   "source": [
    "# Show the top 10 states with the highest average births and their average births and ranking\n",
    "top_states = state_births.sort_values(by='Number of Births', ascending=False).head(10)\n",
    "print(top_states)\n",
    "\n",
    "# Create a bar chart of the top 10 states with the highest average births\n",
    "plt.figure(figsize=(12, 8))\n",
    "plt.bar(top_states['State'], top_states['Number of Births'], color='skyblue')\n",
    "plt.xlabel('State')\n",
    "plt.ylabel('Average Annual Births')"
   ]
  },
  {
   "cell_type": "code",
   "execution_count": 54,
   "metadata": {},
   "outputs": [
    {
     "name": "stdout",
     "output_type": "stream",
     "text": [
      "ANOVA Test Results:\n",
      "F-statistic: 867.3103899513773\n",
      "p-value: 1.2196056326295246e-46\n"
     ]
    }
   ],
   "source": [
    "# Perform ANOVA Test\n",
    "# This test helps determine if there are statistically significant differences in births among regions\n",
    "regions = pivot_df.columns\n",
    "f_statistic, p_value = stats.f_oneway(*[pivot_df[region] for region in regions])\n",
    "\n",
    "print(f\"ANOVA Test Results:\")\n",
    "print(f\"F-statistic: {f_statistic}\")\n",
    "print(f\"p-value: {p_value}\")\n"
   ]
  },
  {
   "cell_type": "code",
   "execution_count": 56,
   "metadata": {},
   "outputs": [
    {
     "data": {
      "text/html": [
       "<div>\n",
       "<style scoped>\n",
       "    .dataframe tbody tr th:only-of-type {\n",
       "        vertical-align: middle;\n",
       "    }\n",
       "\n",
       "    .dataframe tbody tr th {\n",
       "        vertical-align: top;\n",
       "    }\n",
       "\n",
       "    .dataframe thead th {\n",
       "        text-align: right;\n",
       "    }\n",
       "</style>\n",
       "<table border=\"1\" class=\"dataframe\">\n",
       "  <thead>\n",
       "    <tr style=\"text-align: right;\">\n",
       "      <th>Region</th>\n",
       "      <th>East North Central</th>\n",
       "      <th>East South Central</th>\n",
       "      <th>Middle Atlantic</th>\n",
       "      <th>Mountain</th>\n",
       "      <th>New England</th>\n",
       "      <th>Pacific</th>\n",
       "      <th>South Atlantic</th>\n",
       "      <th>West North Central</th>\n",
       "      <th>West South Central</th>\n",
       "    </tr>\n",
       "    <tr>\n",
       "      <th>Year</th>\n",
       "      <th></th>\n",
       "      <th></th>\n",
       "      <th></th>\n",
       "      <th></th>\n",
       "      <th></th>\n",
       "      <th></th>\n",
       "      <th></th>\n",
       "      <th></th>\n",
       "      <th></th>\n",
       "    </tr>\n",
       "  </thead>\n",
       "  <tbody>\n",
       "    <tr>\n",
       "      <th>2016</th>\n",
       "      <td>555551</td>\n",
       "      <td>233335</td>\n",
       "      <td>476339</td>\n",
       "      <td>304699</td>\n",
       "      <td>148851</td>\n",
       "      <td>654135</td>\n",
       "      <td>748710</td>\n",
       "      <td>272142</td>\n",
       "      <td>552091</td>\n",
       "    </tr>\n",
       "    <tr>\n",
       "      <th>2017</th>\n",
       "      <td>544793</td>\n",
       "      <td>232066</td>\n",
       "      <td>468732</td>\n",
       "      <td>295245</td>\n",
       "      <td>146621</td>\n",
       "      <td>630813</td>\n",
       "      <td>741149</td>\n",
       "      <td>265258</td>\n",
       "      <td>530802</td>\n",
       "    </tr>\n",
       "    <tr>\n",
       "      <th>2018</th>\n",
       "      <td>535725</td>\n",
       "      <td>229434</td>\n",
       "      <td>463134</td>\n",
       "      <td>289016</td>\n",
       "      <td>144073</td>\n",
       "      <td>610251</td>\n",
       "      <td>732341</td>\n",
       "      <td>262676</td>\n",
       "      <td>525057</td>\n",
       "    </tr>\n",
       "    <tr>\n",
       "      <th>2019</th>\n",
       "      <td>526604</td>\n",
       "      <td>228770</td>\n",
       "      <td>455354</td>\n",
       "      <td>286800</td>\n",
       "      <td>142529</td>\n",
       "      <td>599851</td>\n",
       "      <td>727520</td>\n",
       "      <td>257856</td>\n",
       "      <td>522247</td>\n",
       "    </tr>\n",
       "    <tr>\n",
       "      <th>2020</th>\n",
       "      <td>505773</td>\n",
       "      <td>223477</td>\n",
       "      <td>437985</td>\n",
       "      <td>278137</td>\n",
       "      <td>138452</td>\n",
       "      <td>568419</td>\n",
       "      <td>704470</td>\n",
       "      <td>248528</td>\n",
       "      <td>508392</td>\n",
       "    </tr>\n",
       "  </tbody>\n",
       "</table>\n",
       "</div>"
      ],
      "text/plain": [
       "Region  East North Central  East South Central  Middle Atlantic  Mountain  \\\n",
       "Year                                                                        \n",
       "2016                555551              233335           476339    304699   \n",
       "2017                544793              232066           468732    295245   \n",
       "2018                535725              229434           463134    289016   \n",
       "2019                526604              228770           455354    286800   \n",
       "2020                505773              223477           437985    278137   \n",
       "\n",
       "Region  New England  Pacific  South Atlantic  West North Central  \\\n",
       "Year                                                               \n",
       "2016         148851   654135          748710              272142   \n",
       "2017         146621   630813          741149              265258   \n",
       "2018         144073   610251          732341              262676   \n",
       "2019         142529   599851          727520              257856   \n",
       "2020         138452   568419          704470              248528   \n",
       "\n",
       "Region  West South Central  \n",
       "Year                        \n",
       "2016                552091  \n",
       "2017                530802  \n",
       "2018                525057  \n",
       "2019                522247  \n",
       "2020                508392  "
      ]
     },
     "execution_count": 56,
     "metadata": {},
     "output_type": "execute_result"
    }
   ],
   "source": [
    "# Show pivot_df dataframe\n",
    "pivot_df.head()\n",
    "\n"
   ]
  },
  {
   "cell_type": "code",
   "execution_count": 58,
   "metadata": {},
   "outputs": [
    {
     "name": "stdout",
     "output_type": "stream",
     "text": [
      "ANOVA Test Results:\n",
      "F-statistic: 867.3104\n",
      "p-value: 1.2196e-46\n",
      "The differences in birth rates among regions are statistically significant.\n"
     ]
    }
   ],
   "source": [
    "# Perform ANOVA Test\n",
    "# This test helps determine if there are statistically significant differences in births among regions\n",
    "regions = pivot_df.columns\n",
    "f_statistic, p_value = stats.f_oneway(*[pivot_df[region] for region in regions])\n",
    "\n",
    "print(f\"ANOVA Test Results:\")\n",
    "print(f\"F-statistic: {f_statistic:.4f}\")\n",
    "print(f\"p-value: {p_value:.4e}\")\n",
    "\n",
    "# Interpret ANOVA results\n",
    "alpha = 0.05  # Significance level\n",
    "if p_value < alpha:\n",
    "    print(\"The differences in birth rates among regions are statistically significant.\")\n",
    "else:\n",
    "    print(\"There is no statistically significant difference in birth rates among regions.\")\n"
   ]
  },
  {
   "cell_type": "markdown",
   "metadata": {},
   "source": [
    "#### # Detailed Explanation of ANOVA Test Results\n",
    " \n",
    "##### The Analysis of Variance (ANOVA) test was performed to determine if there are statistically significant differences in birth rates among different regions in the United States. Here's a detailed explanation of the results:\n",
    " \n",
    "##### 1. F-statistic: The F-statistic (867.3104) represents the ratio of variance between groups (regions) to the variance within groups. This extremely large F-statistic suggests very substantial differences between groups.\n",
    " \n",
    "##### 2. p-value: The p-value (1.2196e-46) is incredibly small, which is far less than our chosen significance level (alpha) of 0.05.\n",
    " \n",
    "##### 3. Interpretation: \n",
    "    - Since the p-value (1.2196e-46) is much less than our significance level (0.05), we strongly reject the null hypothesis.\n",
    "    - This means that the differences in birth rates among regions are highly statistically significant.\n",
    "    - In other words, there is overwhelming evidence to suggest that birth rates vary significantly across different regions in the United States.\n",
    " \n",
    "##### 4. Implications:\n",
    "   - The highly significant differences indicate that geographical regions play a crucial role in birth rate variations.\n",
    "   - Factors such as regional cultural differences, socioeconomic conditions, healthcare access, or demographic composition are likely contributing substantially to these variations.\n",
    "    - Policymakers and healthcare professionals should prioritize considering these regional differences when planning and implementing reproductive health strategies.\n",
    " \n",
    "##### 5. Further Analysis:\n",
    "    - While ANOVA tells us that significant differences exist, it doesn't specify which regions differ from each other.\n",
    "    - Post-hoc tests (e.g., Tukey's HSD) should be conducted to identify specific regional differences.\n",
    "    - Additional factors like education level, age of mother, or economic indicators could be incorporated for a more comprehensive analysis.\n",
    "    - Given the extremely low p-value, it would be valuable to investigate the magnitude of these differences and their practical significance.\n",
    " \n",
    "##### This ANOVA result provides an exceptionally strong foundation for further investigation into regional birth rate patterns and their underlying causes. The extremely low p-value suggests that these regional differences are not only statistically significant but also likely to be of substantial practical importance.\n"
   ]
  },
  {
   "cell_type": "code",
   "execution_count": 60,
   "metadata": {},
   "outputs": [
    {
     "data": {
      "text/html": [
       "<div>\n",
       "<style scoped>\n",
       "    .dataframe tbody tr th:only-of-type {\n",
       "        vertical-align: middle;\n",
       "    }\n",
       "\n",
       "    .dataframe tbody tr th {\n",
       "        vertical-align: top;\n",
       "    }\n",
       "\n",
       "    .dataframe thead th {\n",
       "        text-align: right;\n",
       "    }\n",
       "</style>\n",
       "<table border=\"1\" class=\"dataframe\">\n",
       "  <thead>\n",
       "    <tr style=\"text-align: right;\">\n",
       "      <th>Region</th>\n",
       "      <th>East North Central</th>\n",
       "      <th>East South Central</th>\n",
       "      <th>Middle Atlantic</th>\n",
       "      <th>Mountain</th>\n",
       "      <th>New England</th>\n",
       "      <th>Pacific</th>\n",
       "      <th>South Atlantic</th>\n",
       "      <th>West North Central</th>\n",
       "      <th>West South Central</th>\n",
       "    </tr>\n",
       "    <tr>\n",
       "      <th>Year</th>\n",
       "      <th></th>\n",
       "      <th></th>\n",
       "      <th></th>\n",
       "      <th></th>\n",
       "      <th></th>\n",
       "      <th></th>\n",
       "      <th></th>\n",
       "      <th></th>\n",
       "      <th></th>\n",
       "    </tr>\n",
       "  </thead>\n",
       "  <tbody>\n",
       "    <tr>\n",
       "      <th>2016</th>\n",
       "      <td>555551</td>\n",
       "      <td>233335</td>\n",
       "      <td>476339</td>\n",
       "      <td>304699</td>\n",
       "      <td>148851</td>\n",
       "      <td>654135</td>\n",
       "      <td>748710</td>\n",
       "      <td>272142</td>\n",
       "      <td>552091</td>\n",
       "    </tr>\n",
       "    <tr>\n",
       "      <th>2017</th>\n",
       "      <td>544793</td>\n",
       "      <td>232066</td>\n",
       "      <td>468732</td>\n",
       "      <td>295245</td>\n",
       "      <td>146621</td>\n",
       "      <td>630813</td>\n",
       "      <td>741149</td>\n",
       "      <td>265258</td>\n",
       "      <td>530802</td>\n",
       "    </tr>\n",
       "    <tr>\n",
       "      <th>2018</th>\n",
       "      <td>535725</td>\n",
       "      <td>229434</td>\n",
       "      <td>463134</td>\n",
       "      <td>289016</td>\n",
       "      <td>144073</td>\n",
       "      <td>610251</td>\n",
       "      <td>732341</td>\n",
       "      <td>262676</td>\n",
       "      <td>525057</td>\n",
       "    </tr>\n",
       "    <tr>\n",
       "      <th>2019</th>\n",
       "      <td>526604</td>\n",
       "      <td>228770</td>\n",
       "      <td>455354</td>\n",
       "      <td>286800</td>\n",
       "      <td>142529</td>\n",
       "      <td>599851</td>\n",
       "      <td>727520</td>\n",
       "      <td>257856</td>\n",
       "      <td>522247</td>\n",
       "    </tr>\n",
       "    <tr>\n",
       "      <th>2020</th>\n",
       "      <td>505773</td>\n",
       "      <td>223477</td>\n",
       "      <td>437985</td>\n",
       "      <td>278137</td>\n",
       "      <td>138452</td>\n",
       "      <td>568419</td>\n",
       "      <td>704470</td>\n",
       "      <td>248528</td>\n",
       "      <td>508392</td>\n",
       "    </tr>\n",
       "  </tbody>\n",
       "</table>\n",
       "</div>"
      ],
      "text/plain": [
       "Region  East North Central  East South Central  Middle Atlantic  Mountain  \\\n",
       "Year                                                                        \n",
       "2016                555551              233335           476339    304699   \n",
       "2017                544793              232066           468732    295245   \n",
       "2018                535725              229434           463134    289016   \n",
       "2019                526604              228770           455354    286800   \n",
       "2020                505773              223477           437985    278137   \n",
       "\n",
       "Region  New England  Pacific  South Atlantic  West North Central  \\\n",
       "Year                                                               \n",
       "2016         148851   654135          748710              272142   \n",
       "2017         146621   630813          741149              265258   \n",
       "2018         144073   610251          732341              262676   \n",
       "2019         142529   599851          727520              257856   \n",
       "2020         138452   568419          704470              248528   \n",
       "\n",
       "Region  West South Central  \n",
       "Year                        \n",
       "2016                552091  \n",
       "2017                530802  \n",
       "2018                525057  \n",
       "2019                522247  \n",
       "2020                508392  "
      ]
     },
     "execution_count": 60,
     "metadata": {},
     "output_type": "execute_result"
    }
   ],
   "source": [
    "# Show pivot_df dataframe\n",
    "pivot_df.head()"
   ]
  },
  {
   "cell_type": "code",
   "execution_count": 59,
   "metadata": {},
   "outputs": [
    {
     "name": "stdout",
     "output_type": "stream",
     "text": [
      "\n",
      "Compound Annual Growth Rate (CAGR) by Region:\n",
      "New England: -0.48%\n",
      "East South Central: -0.54%\n",
      "South Atlantic: -0.82%\n",
      "Middle Atlantic: -1.36%\n",
      "West South Central: -1.37%\n",
      "Mountain: -1.50%\n",
      "West North Central: -1.56%\n",
      "East North Central: -1.75%\n",
      "Pacific: -2.70%\n",
      "\n",
      "Regions with positive growth: \n",
      "Regions with negative growth: East North Central, East South Central, Middle Atlantic, Mountain, New England, Pacific, South Atlantic, West North Central, West South Central\n",
      "\n",
      "Overall CAGR for the entire country: -1.47%\n"
     ]
    }
   ],
   "source": [
    "# Calculate Compound Annual Growth Rate (CAGR)\n",
    "# CAGR helps understand the year-over-year growth rate for each region\n",
    "def calculate_cagr(start_value, end_value, num_years):\n",
    "    return (end_value / start_value) ** (1 / num_years) - 1\n",
    "\n",
    "cagr_results = {}\n",
    "for region in regions:\n",
    "    start_value = pivot_df[region].iloc[0]  # First year value\n",
    "    end_value = pivot_df[region].iloc[-1]   # Last year value\n",
    "    num_years = len(pivot_df) - 1           # Number of years in the dataset\n",
    "    cagr = calculate_cagr(start_value, end_value, num_years)\n",
    "    cagr_results[region] = cagr\n",
    "\n",
    "# Sort regions by CAGR in descending order\n",
    "sorted_cagr = sorted(cagr_results.items(), key=lambda x: x[1], reverse=True)\n",
    "\n",
    "print(\"\\nCompound Annual Growth Rate (CAGR) by Region:\")\n",
    "for region, cagr in sorted_cagr:\n",
    "    print(f\"{region}: {cagr:.2%}\")\n",
    "\n",
    "# Identify regions with positive and negative growth\n",
    "positive_growth = [region for region, cagr in cagr_results.items() if cagr > 0]\n",
    "negative_growth = [region for region, cagr in cagr_results.items() if cagr < 0]\n",
    "\n",
    "print(f\"\\nRegions with positive growth: {', '.join(positive_growth)}\")\n",
    "print(f\"Regions with negative growth: {', '.join(negative_growth)}\")\n",
    "\n",
    "# Calculate and print the overall CAGR for the entire country\n",
    "total_start = pivot_df.iloc[0].sum()\n",
    "total_end = pivot_df.iloc[-1].sum()\n",
    "total_cagr = calculate_cagr(total_start, total_end, num_years)\n",
    "print(f\"\\nOverall CAGR for the entire country: {total_cagr:.2%}\")"
   ]
  },
  {
   "cell_type": "markdown",
   "metadata": {},
   "source": [
    "#### Analysis 2: What are the differences in birth weights by gender across states?\n"
   ]
  },
  {
   "cell_type": "code",
   "execution_count": 61,
   "metadata": {},
   "outputs": [
    {
     "name": "stdout",
     "output_type": "stream",
     "text": [
      "Gender                F            M  Difference\n",
      "State                                           \n",
      "Alabama     3143.812963  3246.807407  102.994444\n",
      "Alaska      3309.364815  3408.755556   99.390741\n",
      "Arizona     3198.948148  3306.620370  107.672222\n",
      "Arkansas    3173.883333  3278.864815  104.981481\n",
      "California  3228.031481  3329.827778  101.796296\n"
     ]
    }
   ],
   "source": [
    "# Group data by state and gender, calculating the average birth weight\n",
    "grouped_data = births_df.groupby(['State', 'Gender'])['Average Birth Weight (g)'].mean().reset_index()\n",
    "\n",
    "# Pivot the data for easier analysis and comparison\n",
    "# Create a new DataFrame with States as index and Gender as columns\n",
    "pivot_data = grouped_data.pivot(index='State', columns='Gender', values='Average Birth Weight (g)')\n",
    "\n",
    "# Calculate the difference in birth weight between males and females\n",
    "# Positive values indicate higher male birth weights, negative values indicate higher female birth weights\n",
    "pivot_data['Difference'] = pivot_data['M'] - pivot_data['F']\n",
    "\n",
    "# Display the first few rows of the pivoted data\n",
    "print(pivot_data.head())"
   ]
  },
  {
   "cell_type": "code",
   "execution_count": 62,
   "metadata": {},
   "outputs": [
    {
     "name": "stdout",
     "output_type": "stream",
     "text": [
      "\n",
      "Descriptive Statistics:\n",
      "Gender            F            M  Difference\n",
      "count     51.000000    51.000000   51.000000\n",
      "mean    3194.639285  3307.222147  112.582862\n",
      "std       48.526202    49.635573   10.466030\n",
      "min     3085.698148  3189.077778   83.375926\n",
      "25%     3168.421296  3278.650000  107.245370\n",
      "50%     3194.972222  3305.390741  113.087037\n",
      "75%     3226.430556  3341.583333  118.346296\n",
      "max     3309.364815  3408.755556  142.031481\n"
     ]
    }
   ],
   "source": [
    "# Print Descriptive statistics\n",
    "print(\"\\nDescriptive Statistics:\")\n",
    "print(pivot_data.describe())"
   ]
  },
  {
   "cell_type": "code",
   "execution_count": 63,
   "metadata": {},
   "outputs": [
    {
     "data": {
      "image/png": "[encoded data removed]",
      "text/plain": [
       "<Figure size 1200x600 with 1 Axes>"
      ]
     },
     "metadata": {},
     "output_type": "display_data"
    }
   ],
   "source": [
    "# Create Analysis Visualization: Box plot\n",
    "# This visualization will help us compare the distribution of birth weights between genders\n",
    "\n",
    "# Set up the figure size for better visibility\n",
    "plt.figure(figsize=(12, 6))\n",
    "\n",
    "# Create a box plot using seaborn\n",
    "# x-axis: Gender (M/F)\n",
    "# y-axis: Average Birth Weight in grams\n",
    "# data: Using the grouped_data DataFrame we created earlier\n",
    "sns.boxplot(x='Gender', y='Average Birth Weight (g)', data=grouped_data)\n",
    "\n",
    "# Set a descriptive title for the plot\n",
    "plt.title('Distribution of Average Birth Weight by Gender')\n",
    "\n",
    "# Add labels to axes for clarity\n",
    "plt.xlabel('Gender')\n",
    "plt.ylabel('Average Birth Weight (g)')\n",
    "\n",
    "# Display the plot\n",
    "plt.show()\n",
    "\n",
    "# This box plot will show:\n",
    "# - The median birth weight for each gender\n",
    "# - The interquartile range (IQR) of birth weights\n",
    "# - Any outliers in the data\n",
    "# It will help us visually assess if there are significant differences in birth weights between genders"
   ]
  },
  {
   "cell_type": "code",
   "execution_count": 65,
   "metadata": {},
   "outputs": [
    {
     "data": {
      "image/png": "[encoded data removed]",
      "text/plain": [
       "<Figure size 2000x1000 with 4 Axes>"
      ]
     },
     "metadata": {},
     "output_type": "display_data"
    }
   ],
   "source": [
    "# Visualization: Heatmaps for Average Birth Weight by Gender and State\n",
    "# This visualization will help us compare birth weights across states for both genders\n",
    "\n",
    "# Sort the pivot_data by birth weight values\n",
    "pivot_data_sorted = pivot_data.sort_values(by=['F', 'M'], ascending=False)\n",
    "\n",
    "# Create a figure with two subplots side by side\n",
    "fig, (ax1, ax2) = plt.subplots(1, 2, figsize=(20, 10))\n",
    "\n",
    "# Heatmap for Females\n",
    "sns.heatmap(pivot_data_sorted[['F']], ax=ax1, cmap='YlOrRd', annot=True, fmt='.0f')\n",
    "ax1.set_title('Average Birth Weight (g) for Females by State')\n",
    "# YlOrRd colormap: Yellow (lower values) to Red (higher values)\n",
    "# annot=True: Display the values in each cell\n",
    "# fmt='.0f': Format the values as integers\n",
    "\n",
    "# Heatmap for Males\n",
    "sns.heatmap(pivot_data_sorted[['M']], ax=ax2, cmap='YlOrRd', annot=True, fmt='.0f')\n",
    "ax2.set_title('Average Birth Weight (g) for Males by State')\n",
    "# Using the same colormap and formatting for consistency\n",
    "\n",
    "# Adjust the layout to prevent overlap\n",
    "plt.tight_layout()\n",
    "\n",
    "# Display the plot\n",
    "plt.show()\n",
    "\n",
    "# This visualization allows us to:\n",
    "# 1. Quickly identify states with higher or lower birth weights for each gender\n",
    "# 2. Compare patterns between male and female birth weights across states\n",
    "# 3. Spot any regional trends or anomalies in birth weights\n",
    "# 4. Observe the distribution of birth weights from highest to lowest across states"
   ]
  },
  {
   "cell_type": "markdown",
   "metadata": {},
   "source": [
    "### CONCLUSION: "
   ]
  }
 ],
 "metadata": {
  "kernelspec": {
   "display_name": "AnacondaEnv",
   "language": "python",
   "name": "python3"
  },
  "language_info": {
   "codemirror_mode": {
    "name": "ipython",
    "version": 3
   },
   "file_extension": ".py",
   "mimetype": "text/x-python",
   "name": "python",
   "nbconvert_exporter": "python",
   "pygments_lexer": "ipython3",
   "version": "3.10.14"
  }
 },
 "nbformat": 4,
 "nbformat_minor": 2
}
