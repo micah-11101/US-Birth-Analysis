{
 "cells": [
  {
   "cell_type": "code",
   "execution_count": 1,
   "metadata": {},
   "outputs": [],
   "source": [
    "from sqlalchemy import create_engine\n",
    "from sqlalchemy.orm import sessionmaker\n",
    "\n",
    "# Import the psycopg2 library\n",
    "import psycopg2\n"
   ]
  },
  {
   "cell_type": "code",
   "execution_count": 2,
   "metadata": {},
   "outputs": [
    {
     "name": "stdout",
     "output_type": "stream",
     "text": [
      "Local PostgreSQL databases:\n",
      "- postgres\n",
      "- animals_db\n",
      "- city_info\n",
      "- programming_db\n",
      "- commodity_db\n",
      "- rental_db\n",
      "- Employee_DB\n",
      "- crowdfunding_db\n",
      "- Project3_US_Births\n",
      "\n",
      "Connection successful!\n"
     ]
    }
   ],
   "source": [
    "# Database connection parameters\n",
    "db_username = 'postgres'\n",
    "db_name = 'Project3_US_Births'\n",
    "db_password = 'postgres'\n",
    "db_host = 'localhost'\n",
    "db_port = '5432'\n",
    "\n",
    "# Create a connection to the default 'postgres' database\n",
    "connection_string = f'postgresql://{db_username}:{db_password}@{db_host}:{db_port}/postgres'\n",
    "\n",
    "# Create the engine\n",
    "engine = create_engine(connection_string)\n",
    "\n",
    "# Create a session factory\n",
    "Session = sessionmaker(bind=engine)\n",
    "\n",
    "# Create a session\n",
    "session = None\n",
    "\n",
    "try:\n",
    "    # Create a session\n",
    "    session = Session()\n",
    "    \n",
    "    # Query to list all databases\n",
    "    query = \"SELECT datname FROM pg_database WHERE datistemplate = false;\"\n",
    "    \n",
    "    # Execute the query\n",
    "    from sqlalchemy import text\n",
    "    result = session.execute(text(query))\n",
    "    \n",
    "    # Fetch all results\n",
    "    databases = result.fetchall()\n",
    "    \n",
    "    print(\"Local PostgreSQL databases:\")\n",
    "    for db in databases:\n",
    "        print(f\"- {db[0]}\")\n",
    "    \n",
    "    print(\"\\nConnection successful!\")\n",
    "    \n",
    "except Exception as e:\n",
    "    print(f\"Error connecting to the database: {str(e)}\")\n",
    "    if session:\n",
    "        session.close()\n",
    "        session = None\n",
    "\n",
    "# Note: We're not closing the session here if the connection was successful\n",
    "# The session will remain open for further use"
   ]
  },
  {
   "cell_type": "code",
   "execution_count": 3,
   "metadata": {},
   "outputs": [
    {
     "name": "stdout",
     "output_type": "stream",
     "text": [
      "Successfully connected to Project3_US_Births database using SQLAlchemy!\n",
      "PostgreSQL database version: PostgreSQL 16.4, compiled by Visual C++ build 1940, 64-bit\n"
     ]
    }
   ],
   "source": [
    "from sqlalchemy import create_engine, text\n",
    "from sqlalchemy.orm import sessionmaker\n",
    "\n",
    "# Database connection parameters\n",
    "db_username = 'postgres'\n",
    "db_password = 'postgres'\n",
    "db_host = 'localhost'\n",
    "db_port = '5432'\n",
    "db_name = 'Project3_US_Births'\n",
    "\n",
    "# Create the connection string\n",
    "connection_string = f'postgresql://{db_username}:{db_password}@{db_host}:{db_port}/{db_name}'\n",
    "\n",
    "# Create the engine\n",
    "engine = create_engine(connection_string)\n",
    "\n",
    "# Create a session factory\n",
    "Session = sessionmaker(bind=engine)\n",
    "\n",
    "try:\n",
    "    # Create a session\n",
    "    session = Session()\n",
    "    \n",
    "    print(f\"Successfully connected to {db_name} database using SQLAlchemy!\")\n",
    "    \n",
    "    # Example query to test the connection\n",
    "    result = session.execute(text(\"SELECT version();\"))\n",
    "    db_version = result.scalar()\n",
    "    print(f\"PostgreSQL database version: {db_version}\")\n",
    "\n",
    "except Exception as error:\n",
    "    print(f\"Error while connecting to PostgreSQL: {error}\")\n",
    "\n"
   ]
  },
  {
   "cell_type": "code",
   "execution_count": 4,
   "metadata": {},
   "outputs": [
    {
     "name": "stdout",
     "output_type": "stream",
     "text": [
      " * Serving Flask app '__main__'\n",
      " * Debug mode: on\n"
     ]
    },
    {
     "name": "stderr",
     "output_type": "stream",
     "text": [
      "WARNING: This is a development server. Do not use it in a production deployment. Use a production WSGI server instead.\n",
      " * Running on http://127.0.0.1:5000\n",
      "Press CTRL+C to quit\n",
      " * Restarting with watchdog (windowsapi)\n"
     ]
    },
    {
     "ename": "SystemExit",
     "evalue": "1",
     "output_type": "error",
     "traceback": [
      "An exception has occurred, use %tb to see the full traceback.\n",
      "\u001b[1;31mSystemExit\u001b[0m\u001b[1;31m:\u001b[0m 1\n"
     ]
    },
    {
     "name": "stderr",
     "output_type": "stream",
     "text": [
      "c:\\Users\\Power\\anaconda3\\envs\\AnacondaEnv\\lib\\site-packages\\IPython\\core\\interactiveshell.py:3585: UserWarning: To exit: use 'exit', 'quit', or Ctrl-D.\n",
      "  warn(\"To exit: use 'exit', 'quit', or Ctrl-D.\", stacklevel=1)\n"
     ]
    }
   ],
   "source": [
    "from flask import Flask, jsonify\n",
    "from sqlalchemy import text\n",
    "\n",
    "app = Flask(__name__)\n",
    "\n",
    "@app.route('/api/us_births_2016_2021', methods=['GET'])\n",
    "def get_births_data():\n",
    "    query = text(\"SELECT * FROM us_births_2016_2021\")\n",
    "    \n",
    "    try:\n",
    "        # Use the existing session from the Project3_US_Births connection\n",
    "        result = session.execute(query)\n",
    "        data = [dict(row) for row in result.mappings()]\n",
    "        \n",
    "        # Check if the query returned any results\n",
    "        if data:\n",
    "            return jsonify({\"message\": \"SQL query executed successfully\", \"data\": data})\n",
    "        else:\n",
    "            return jsonify({\"message\": \"SQL query executed successfully, but no data was returned\"}), 204\n",
    "    except Exception as e:\n",
    "        return jsonify({\"error\": f\"Error executing SQL query: {str(e)}\"}), 500\n",
    "\n",
    "if __name__ == '__main__':\n",
    "    if session:\n",
    "        app.run(debug=True)\n",
    "    else:\n",
    "        print(\"Error: No active database session. Please ensure the connection to Project3_US_Births is established.\")\n"
   ]
  },
  {
   "cell_type": "code",
   "execution_count": 6,
   "metadata": {},
   "outputs": [],
   "source": [
    "# Close the session\n",
    "session.close()"
   ]
  },
  {
   "cell_type": "code",
   "execution_count": null,
   "metadata": {},
   "outputs": [],
   "source": []
  }
 ],
 "metadata": {
  "kernelspec": {
   "display_name": "AnacondaEnv",
   "language": "python",
   "name": "python3"
  },
  "language_info": {
   "codemirror_mode": {
    "name": "ipython",
    "version": 3
   },
   "file_extension": ".py",
   "mimetype": "text/x-python",
   "name": "python",
   "nbconvert_exporter": "python",
   "pygments_lexer": "ipython3",
   "version": "3.10.14"
  }
 },
 "nbformat": 4,
 "nbformat_minor": 2
}
