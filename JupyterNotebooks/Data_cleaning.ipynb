{
 "cells": [
  {
   "cell_type": "markdown",
   "metadata": {},
   "source": [
    "# Data Cleaning Process\n",
    "\n",
    "This notebook outlines the data cleaning process for the US births dataset from 2016 to 2021. The process includes:\n",
    "\n",
    "1. Loading and initial inspection of the dataset\n",
    "2. Checking for missing values and duplicates\n",
    "3. Examining data types and structure\n",
    "4. Visualizing data distributions and relationships (as seen in below cell outputs)\n",
    "\n",
    "The goal is to prepare a clean, consistent dataset for further analysis and modeling.\n"
   ]
  },
  {
   "cell_type": "code",
   "execution_count": 1,
   "metadata": {},
   "outputs": [
    {
     "name": "stdout",
     "output_type": "stream",
     "text": [
      "     State State Abbreviation  Year Gender  \\\n",
      "0  Alabama                 AL  2016      F   \n",
      "1  Alabama                 AL  2016      F   \n",
      "2  Alabama                 AL  2016      F   \n",
      "3  Alabama                 AL  2016      F   \n",
      "4  Alabama                 AL  2016      F   \n",
      "\n",
      "                Education Level of Mother  Education Level Code  \\\n",
      "0                       8th grade or less                     1   \n",
      "1  9th through 12th grade with no diploma                     2   \n",
      "2   High school graduate or GED completed                     3   \n",
      "3   Some college credit, but not a degree                     4   \n",
      "4               Associate degree (AA, AS)                     5   \n",
      "\n",
      "   Number of Births  Average Age of Mother (years)  Average Birth Weight (g)  \n",
      "0              1052                           27.8                    3116.9  \n",
      "1              3436                           24.1                    3040.0  \n",
      "2              8777                           25.4                    3080.0  \n",
      "3              6453                           26.7                    3121.9  \n",
      "4              2227                           28.9                    3174.3  \n",
      "<class 'pandas.core.frame.DataFrame'>\n",
      "RangeIndex: 5496 entries, 0 to 5495\n",
      "Data columns (total 9 columns):\n",
      " #   Column                         Non-Null Count  Dtype  \n",
      "---  ------                         --------------  -----  \n",
      " 0   State                          5496 non-null   object \n",
      " 1   State Abbreviation             5496 non-null   object \n",
      " 2   Year                           5496 non-null   int64  \n",
      " 3   Gender                         5496 non-null   object \n",
      " 4   Education Level of Mother      5496 non-null   object \n",
      " 5   Education Level Code           5496 non-null   int64  \n",
      " 6   Number of Births               5496 non-null   int64  \n",
      " 7   Average Age of Mother (years)  5496 non-null   float64\n",
      " 8   Average Birth Weight (g)       5496 non-null   float64\n",
      "dtypes: float64(2), int64(3), object(4)\n",
      "memory usage: 386.6+ KB\n",
      "None\n"
     ]
    }
   ],
   "source": [
    "import pandas as pd\n",
    "import numpy as np\n",
    "import matplotlib.pyplot as plt\n",
    "import seaborn as sns\n",
    "\n",
    "# Load the dataset\n",
    "df = pd.read_csv('../Data/us_births_2016_2021.csv')\n",
    "\n",
    "# Display the first few rows and basic information about the dataset\n",
    "print(df.head())\n",
    "print(df.info())"
   ]
  },
  {
   "cell_type": "code",
   "execution_count": 11,
   "metadata": {},
   "outputs": [
    {
     "name": "stdout",
     "output_type": "stream",
     "text": [
      "              Year  Education Level Code  Number of Births  \\\n",
      "count  5496.000000           5496.000000       5496.000000   \n",
      "mean   2018.500728              3.026201       4115.443959   \n",
      "std       1.707554              4.733406       6687.036797   \n",
      "min    2016.000000             -9.000000         10.000000   \n",
      "25%    2017.000000              2.000000        559.000000   \n",
      "50%    2019.000000              4.000000       1692.000000   \n",
      "75%    2020.000000              6.000000       5140.000000   \n",
      "max    2021.000000              8.000000      59967.000000   \n",
      "\n",
      "       Average Age of Mother (years)  Average Birth Weight (g)  \n",
      "count                    5496.000000               5496.000000  \n",
      "mean                       29.552274               3250.887627  \n",
      "std                         2.779735                114.456090  \n",
      "min                        23.100000               2451.900000  \n",
      "25%                        27.500000               3182.200000  \n",
      "50%                        29.600000               3256.000000  \n",
      "75%                        31.800000               3330.825000  \n",
      "max                        35.500000               3585.700000  \n",
      "State                            0\n",
      "State Abbreviation               0\n",
      "Year                             0\n",
      "Gender                           0\n",
      "Education Level of Mother        0\n",
      "Education Level Code             0\n",
      "Number of Births                 0\n",
      "Average Age of Mother (years)    0\n",
      "Average Birth Weight (g)         0\n",
      "dtype: int64\n",
      "Number of duplicate rows: 0\n"
     ]
    }
   ],
   "source": [
    "# Describe the dataset\n",
    "print(df.describe())\n",
    "\n",
    "# Check for missing values\n",
    "print(df.isnull().sum())\n",
    "\n",
    "# Check for duplicates\n",
    "duplicate_count = df.duplicated().sum()\n",
    "print(f\"Number of duplicate rows: {duplicate_count}\")\n",
    "\n",
    "\n",
    "\n"
   ]
  },
  {
   "cell_type": "code",
   "execution_count": 3,
   "metadata": {},
   "outputs": [
    {
     "name": "stdout",
     "output_type": "stream",
     "text": [
      "State                             object\n",
      "State Abbreviation                object\n",
      "Year                               int64\n",
      "Gender                            object\n",
      "Education Level of Mother         object\n",
      "Education Level Code               int64\n",
      "Number of Births                   int64\n",
      "Average Age of Mother (years)    float64\n",
      "Average Birth Weight (g)         float64\n",
      "dtype: object\n",
      "Index(['State', 'State Abbreviation', 'Year', 'Gender',\n",
      "       'Education Level of Mother', 'Education Level Code', 'Number of Births',\n",
      "       'Average Age of Mother (years)', 'Average Birth Weight (g)'],\n",
      "      dtype='object')\n",
      "RangeIndex(start=0, stop=5496, step=1)\n"
     ]
    }
   ],
   "source": [
    "# Show the datatypes of the columns\n",
    "print(df.dtypes)\n",
    "\n",
    "# Show the columns in the dataset\n",
    "print(df.columns)\n",
    "\n",
    "# Show the index of the dataset\n",
    "print(df.index)\n",
    "\n"
   ]
  },
  {
   "cell_type": "code",
   "execution_count": 5,
   "metadata": {},
   "outputs": [
    {
     "data": {
      "image/png": "[encoded data removed]",
      "text/plain": [
       "<Figure size 1000x1000 with 2 Axes>"
      ]
     },
     "metadata": {},
     "output_type": "display_data"
    }
   ],
   "source": [
    "# Function to plot boxplots for numeric columns\n",
    "def plot_boxplots(df, columns):\n",
    "    fig, axes = plt.subplots(len(columns), 1, figsize=(10, 5*len(columns)))\n",
    "    for i, col in enumerate(columns):\n",
    "        sns.boxplot(x=df[col], ax=axes[i] if len(columns) > 1 else axes)\n",
    "        axes[i].set_title(col) if len(columns) > 1 else axes.set_title(col)\n",
    "    plt.tight_layout()\n",
    "    plt.show()\n",
    "\n",
    "numeric_columns = ['Average Age of Mother (years)', 'Average Birth Weight (g)']\n",
    "plot_boxplots(df, numeric_columns)\n",
    "\n",
    "# Identify and handle outliers (example for Average Age of Mother)\n",
    "Q1 = df['Average Age of Mother (years)'].quantile(0.25)\n",
    "Q3 = df['Average Age of Mother (years)'].quantile(0.75)\n",
    "IQR = Q3 - Q1\n",
    "lower_bound = Q1 - 1.5 * IQR\n",
    "upper_bound = Q3 + 1.5 * IQR\n",
    "\n",
    "df['Average Age of Mother (years)'] = df['Average Age of Mother (years)'].clip(lower_bound, upper_bound)\n"
   ]
  },
  {
   "cell_type": "code",
   "execution_count": 8,
   "metadata": {},
   "outputs": [
    {
     "name": "stdout",
     "output_type": "stream",
     "text": [
      "Number of datapoints considered as outliers for Average Birth Weight: 73\n",
      "Low outliers: 72\n",
      "High outliers: 1\n",
      "Percentage of outliers for Average Birth Weight: 1.33%\n"
     ]
    }
   ],
   "source": [
    "# Calculate lower and upper bounds for Average Birth Weight\n",
    "Q1_birth_weight = df['Average Birth Weight (g)'].quantile(0.25)\n",
    "Q3_birth_weight = df['Average Birth Weight (g)'].quantile(0.75)\n",
    "IQR_birth_weight = Q3_birth_weight - Q1_birth_weight\n",
    "lower_bound_birth_weight = Q1_birth_weight - 1.5 * IQR_birth_weight\n",
    "upper_bound_birth_weight = Q3_birth_weight + 1.5 * IQR_birth_weight\n",
    "\n",
    "# Count the outliers of Average Birth Weight\n",
    "outliers_low = df[df['Average Birth Weight (g)'] < lower_bound_birth_weight]\n",
    "outliers_high = df[df['Average Birth Weight (g)'] > upper_bound_birth_weight]\n",
    "total_outliers = len(outliers_low) + len(outliers_high)\n",
    "\n",
    "print(f\"Number of datapoints considered as outliers for Average Birth Weight: {total_outliers}\")\n",
    "print(f\"Low outliers: {len(outliers_low)}\")\n",
    "print(f\"High outliers: {len(outliers_high)}\")\n",
    "\n",
    "# Calculate percentage of outliers\n",
    "percentage_outliers = (total_outliers / len(df)) * 100\n",
    "print(f\"Percentage of outliers for Average Birth Weight: {percentage_outliers:.2f}%\")\n",
    "\n"
   ]
  },
  {
   "cell_type": "code",
   "execution_count": 9,
   "metadata": {},
   "outputs": [
    {
     "name": "stdout",
     "output_type": "stream",
     "text": [
      "              State State Abbreviation  Year Gender Education Level of Mother  \\\n",
      "3129  New Hampshire                 NH  2016      M         8th grade or less   \n",
      "\n",
      "      Education Level Code  Number of Births  Average Age of Mother (years)  \\\n",
      "3129                     1                35                           29.0   \n",
      "\n",
      "      Average Birth Weight (g)  \n",
      "3129                    3585.7  \n",
      "              State State Abbreviation  Year Gender Education Level of Mother  \\\n",
      "278         Arizona                 AZ  2019      F     Unknown or Not Stated   \n",
      "314         Arizona                 AZ  2021      F     Unknown or Not Stated   \n",
      "404        Arkansas                 AR  2020      F     Unknown or Not Stated   \n",
      "422        Arkansas                 AR  2021      F     Unknown or Not Stated   \n",
      "431        Arkansas                 AR  2021      M     Unknown or Not Stated   \n",
      "...             ...                ...   ...    ...                       ...   \n",
      "5252  West Virginia                 WV  2020      F     Unknown or Not Stated   \n",
      "5270  West Virginia                 WV  2021      F     Unknown or Not Stated   \n",
      "5279  West Virginia                 WV  2021      M     Unknown or Not Stated   \n",
      "5324      Wisconsin                 WI  2018      F     Unknown or Not Stated   \n",
      "5450        Wyoming                 WY  2019      F     Unknown or Not Stated   \n",
      "\n",
      "      Education Level Code  Number of Births  Average Age of Mother (years)  \\\n",
      "278                     -9               138                           28.4   \n",
      "314                     -9               174                           28.4   \n",
      "404                     -9               138                           27.1   \n",
      "422                     -9               188                           28.3   \n",
      "431                     -9               191                           28.3   \n",
      "...                    ...               ...                            ...   \n",
      "5252                    -9                58                           30.7   \n",
      "5270                    -9                41                           33.0   \n",
      "5279                    -9                38                           31.2   \n",
      "5324                    -9               185                           28.9   \n",
      "5450                    -9                27                           29.8   \n",
      "\n",
      "      Average Birth Weight (g)  \n",
      "278                     2953.7  \n",
      "314                     2851.9  \n",
      "404                     2935.1  \n",
      "422                     2912.7  \n",
      "431                     2853.5  \n",
      "...                        ...  \n",
      "5252                    2888.4  \n",
      "5270                    2859.1  \n",
      "5279                    2866.0  \n",
      "5324                    2948.1  \n",
      "5450                    2926.4  \n",
      "\n",
      "[72 rows x 9 columns]\n"
     ]
    }
   ],
   "source": [
    "# Provide details of the highest outliers\n",
    "print(df[df['Average Birth Weight (g)'] > upper_bound_birth_weight])\n",
    "\n",
    "# Provide details of the lowest outliers\n",
    "print(df[df['Average Birth Weight (g)'] < lower_bound_birth_weight])"
   ]
  },
  {
   "cell_type": "code",
   "execution_count": 12,
   "metadata": {},
   "outputs": [
    {
     "name": "stdout",
     "output_type": "stream",
     "text": [
      "Missing state-year combinations:\n",
      "Year\n",
      "2016    0\n",
      "2017    0\n",
      "2018    0\n",
      "2019    0\n",
      "2020    0\n",
      "2021    0\n",
      "dtype: int64\n"
     ]
    }
   ],
   "source": [
    "# Check for missing state-year combinations\n",
    "state_year_combinations = df.groupby(['State', 'Year']).size().unstack()\n",
    "print(\"Missing state-year combinations:\")\n",
    "print(state_year_combinations.isnull().sum())"
   ]
  },
  {
   "cell_type": "code",
   "execution_count": 22,
   "metadata": {},
   "outputs": [
    {
     "data": {
      "image/png": "[encoded data removed]",
      "text/plain": [
       "<Figure size 1000x500 with 1 Axes>"
      ]
     },
     "metadata": {},
     "output_type": "display_data"
    }
   ],
   "source": [
    "# Plot total births by year to check for consistency\n",
    "yearly_births = df.groupby('Year')['Number of Births'].sum()\n",
    "plt.figure(figsize=(10, 5))\n",
    "yearly_births.plot(kind='bar')\n",
    "plt.title('Total Births by Year')\n",
    "plt.ylabel('Number of Births')\n",
    "plt.xlabel('Year')\n",
    "plt.show()\n"
   ]
  },
  {
   "cell_type": "markdown",
   "metadata": {},
   "source": [
    "# Conclusion\n",
    "\n",
    "Based on the data cleaning steps performed above, we can conclude that:\n",
    "\n",
    "1. The dataset is consistent across years and states.\n",
    "2. Outliers in the Average Birth Weight are within an acceptable range and do not require removal.\n",
    "3. There are no missing state-year combinations in the dataset.\n",
    "4. The total births by year show a consistent pattern without any unexpected spikes or drops.\n",
    "\n",
    "Given these observations, we can confidently state that the dataset passes our data quality checks and cleaning steps. No further modifications or data transformations are necessary at this stage. The dataset is now ready for further analysis and modeling.\n"
   ]
  }
 ],
 "metadata": {
  "kernelspec": {
   "display_name": "AnacondaEnv",
   "language": "python",
   "name": "python3"
  },
  "language_info": {
   "codemirror_mode": {
    "name": "ipython",
    "version": 3
   },
   "file_extension": ".py",
   "mimetype": "text/x-python",
   "name": "python",
   "nbconvert_exporter": "python",
   "pygments_lexer": "ipython3",
   "version": "3.10.14"
  }
 },
 "nbformat": 4,
 "nbformat_minor": 2
}
